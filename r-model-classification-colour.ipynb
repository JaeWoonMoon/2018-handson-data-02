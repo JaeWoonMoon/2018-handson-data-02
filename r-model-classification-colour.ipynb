{
 "cells": [
  {
   "cell_type": "code",
   "execution_count": 2,
   "metadata": {},
   "outputs": [],
   "source": [
    "library(aws.signature)\n",
    "library(aws.s3)\n",
    "library(tree)\n",
    "library(colorspace)\n",
    "\n",
    "use_credentials(profile = \"handson2\", file = \"./credentials\")\n",
    "# Sys.getenv()"
   ]
  },
  {
   "cell_type": "code",
   "execution_count": 3,
   "metadata": {},
   "outputs": [
    {
     "data": {
      "text/html": [
       "<table>\n",
       "<thead><tr><th scope=col>NAME</th><th scope=col>COL</th><th scope=col>R</th><th scope=col>G</th><th scope=col>B</th><th scope=col>LABEL</th><th scope=col>SOURCE</th></tr></thead>\n",
       "<tbody>\n",
       "\t<tr><td>RAL 1000 </td><td>#ccc58f  </td><td>204      </td><td>197      </td><td>143      </td><td>yellow   </td><td>REFERENCE</td></tr>\n",
       "\t<tr><td>RAL 1001 </td><td>#d1bc8a  </td><td>209      </td><td>188      </td><td>138      </td><td>yellow   </td><td>REFERENCE</td></tr>\n",
       "\t<tr><td>RAL 1002 </td><td>#d2b773  </td><td>210      </td><td>183      </td><td>115      </td><td>yellow   </td><td>REFERENCE</td></tr>\n",
       "\t<tr><td>RAL 1003 </td><td>#f7ba0b  </td><td>247      </td><td>186      </td><td> 11      </td><td>yellow   </td><td>REFERENCE</td></tr>\n",
       "\t<tr><td>RAL 1004 </td><td>#e2b007  </td><td>226      </td><td>176      </td><td>  7      </td><td>yellow   </td><td>REFERENCE</td></tr>\n",
       "\t<tr><td>RAL 1005 </td><td>#c89f04  </td><td>200      </td><td>159      </td><td>  4      </td><td>yellow   </td><td>REFERENCE</td></tr>\n",
       "</tbody>\n",
       "</table>\n"
      ],
      "text/latex": [
       "\\begin{tabular}{r|lllllll}\n",
       " NAME & COL & R & G & B & LABEL & SOURCE\\\\\n",
       "\\hline\n",
       "\t RAL 1000  & \\#ccc58f & 204       & 197       & 143       & yellow    & REFERENCE\\\\\n",
       "\t RAL 1001  & \\#d1bc8a & 209       & 188       & 138       & yellow    & REFERENCE\\\\\n",
       "\t RAL 1002  & \\#d2b773 & 210       & 183       & 115       & yellow    & REFERENCE\\\\\n",
       "\t RAL 1003  & \\#f7ba0b & 247       & 186       &  11       & yellow    & REFERENCE\\\\\n",
       "\t RAL 1004  & \\#e2b007 & 226       & 176       &   7       & yellow    & REFERENCE\\\\\n",
       "\t RAL 1005  & \\#c89f04 & 200       & 159       &   4       & yellow    & REFERENCE\\\\\n",
       "\\end{tabular}\n"
      ],
      "text/markdown": [
       "\n",
       "NAME | COL | R | G | B | LABEL | SOURCE | \n",
       "|---|---|---|---|---|---|\n",
       "| RAL 1000  | #ccc58f   | 204       | 197       | 143       | yellow    | REFERENCE | \n",
       "| RAL 1001  | #d1bc8a   | 209       | 188       | 138       | yellow    | REFERENCE | \n",
       "| RAL 1002  | #d2b773   | 210       | 183       | 115       | yellow    | REFERENCE | \n",
       "| RAL 1003  | #f7ba0b   | 247       | 186       |  11       | yellow    | REFERENCE | \n",
       "| RAL 1004  | #e2b007   | 226       | 176       |   7       | yellow    | REFERENCE | \n",
       "| RAL 1005  | #c89f04   | 200       | 159       |   4       | yellow    | REFERENCE | \n",
       "\n",
       "\n"
      ],
      "text/plain": [
       "  NAME     COL     R   G   B   LABEL  SOURCE   \n",
       "1 RAL 1000 #ccc58f 204 197 143 yellow REFERENCE\n",
       "2 RAL 1001 #d1bc8a 209 188 138 yellow REFERENCE\n",
       "3 RAL 1002 #d2b773 210 183 115 yellow REFERENCE\n",
       "4 RAL 1003 #f7ba0b 247 186  11 yellow REFERENCE\n",
       "5 RAL 1004 #e2b007 226 176   7 yellow REFERENCE\n",
       "6 RAL 1005 #c89f04 200 159   4 yellow REFERENCE"
      ]
     },
     "metadata": {},
     "output_type": "display_data"
    }
   ],
   "source": [
    "rgb = read.csv('rgb.csv')\n",
    "head(rgb)"
   ]
  },
  {
   "cell_type": "code",
   "execution_count": 4,
   "metadata": {},
   "outputs": [
    {
     "name": "stdout",
     "output_type": "stream",
     "text": [
      "'data.frame':\t2808 obs. of  7 variables:\n",
      " $ NAME  : Factor w/ 2808 levels \"1\",\"10\",\"100\",..: 2596 2597 2598 2599 2600 2601 2602 2603 2604 2605 ...\n",
      " $ COL   : Factor w/ 2456 levels \"#000000\",\"#005d4c\",..: 1557 1638 1650 2337 1879 1449 1852 2013 1096 1721 ...\n",
      " $ R     : int  204 209 210 247 226 200 225 231 175 217 ...\n",
      " $ G     : int  197 188 183 186 176 159 161 156 138 192 ...\n",
      " $ B     : int  143 138 115 11 7 4 0 0 84 34 ...\n",
      " $ LABEL : Factor w/ 10 levels \"black\",\"blue\",..: 10 10 10 10 10 10 10 10 10 10 ...\n",
      " $ SOURCE: Factor w/ 2 levels \"PRODUCT\",\"REFERENCE\": 2 2 2 2 2 2 2 2 2 2 ...\n"
     ]
    }
   ],
   "source": [
    "# 컬림 설명\n",
    "# NAME: 이름\n",
    "# COL: 헥사로 표현된 RGB 정보\n",
    "# R: Red [0-255]\n",
    "# G: Green [0-255]\n",
    "# B: Blue [0-255]\n",
    "# LABEL: 분류 된 색상 정보\n",
    "# SOURCE: 해당 데이터의 출처 정보\n",
    "# - REFERENCE: https://en.wikipedia.org/wiki/List_of_RAL_colors\n",
    "# - PRODUCT: 상품이미지에서 추출한 대표 색상정보\n",
    "str(rgb)"
   ]
  },
  {
   "cell_type": "code",
   "execution_count": 5,
   "metadata": {},
   "outputs": [
    {
     "data": {
      "image/png": "[encoded data removed]",
      "text/plain": [
       "plot without title"
      ]
     },
     "metadata": {},
     "output_type": "display_data"
    }
   ],
   "source": [
    "plot(table(rgb$LABEL))"
   ]
  },
  {
   "cell_type": "code",
   "execution_count": 6,
   "metadata": {},
   "outputs": [],
   "source": [
    "dat = rgb[, c(\"R\", \"G\", \"B\", \"LABEL\")]\n",
    "col.type = \"rgb\"\n",
    "\n",
    "col.type = \"lab\"\n",
    "# lab = as(RGB(dat[, \"R\"]/255, dat[, \"G\"]/255, dat[, \"B\"]/255), \"LAB\")\n",
    "# dat = as.data.frame(coords(lab))\n",
    "# dat$LABEL = rgb$LABEL\n",
    "\n",
    "set.seed(0908)\n",
    "index = sample(round(nrow(dat) * 0.7))\n",
    "\n",
    "# 훈련 데이터와 평가 데이터를 분리\n",
    "train.dat = dat[index, ]\n",
    "test.dat = dat[-index, ]\n",
    "\n",
    "write.csv(train.dat, file = \"train.csv\")\n",
    "write.csv(test.dat, file = \"test.csv\")"
   ]
  },
  {
   "cell_type": "code",
   "execution_count": 13,
   "metadata": {},
   "outputs": [
    {
     "ename": "ERROR",
     "evalue": "Error in \"sagemaker-handson-2\" + \"yanso\": non-numeric argument to binary operator\n",
     "output_type": "error",
     "traceback": [
      "Error in \"sagemaker-handson-2\" + \"yanso\": non-numeric argument to binary operator\nTraceback:\n"
     ]
    }
   ],
   "source": [
    "bucket.name = \"sagemaker-handson-2-<userid>\" # <userid> 대신 자신의 아이디를 넣어주세요\n",
    "result = try(bucket_exists(bucket.name),\n",
    "                  silent = T)\n",
    "if(class(result) == \"try-error\") {\n",
    "  put_bucket(bucket.name)  \n",
    "}\n",
    "\n",
    "# 원본 데이터, 학습 데이터, 평가 데이터를 S3에 업로드\n",
    "put_object(file = \"rgb.csv\", bucket = bucket.name)\n",
    "put_object(file = \"train.csv\", bucket = file.path(bucket.name, \"data\", col.type, \"train\"))\n",
    "put_object(file = \"test.csv\", bucket = file.path(bucket.name, \"data\", col.type, \"test\"))"
   ]
  },
  {
   "cell_type": "code",
   "execution_count": 8,
   "metadata": {},
   "outputs": [
    {
     "data": {
      "text/plain": [
       "\n",
       "Classification tree:\n",
       "tree(formula = LABEL ~ ., data = train.dat)\n",
       "Number of terminal nodes:  15 \n",
       "Residual mean deviance:  1.508 = 2943 / 1951 \n",
       "Misclassification error rate: 0.2274 = 447 / 1966 "
      ]
     },
     "metadata": {},
     "output_type": "display_data"
    }
   ],
   "source": [
    "# tree 모델을 학습 데이터로 학습\n",
    "model = tree(LABEL ~ ., data = train.dat)\n",
    "summary(model)"
   ]
  },
  {
   "cell_type": "code",
   "execution_count": 9,
   "metadata": {},
   "outputs": [
    {
     "data": {
      "image/png": "[encoded data removed]",
      "text/plain": [
       "plot without title"
      ]
     },
     "metadata": {},
     "output_type": "display_data"
    }
   ],
   "source": [
    "# 시각화\n",
    "plot(model); text(model)"
   ]
  },
  {
   "cell_type": "code",
   "execution_count": 11,
   "metadata": {},
   "outputs": [
    {
     "data": {
      "text/plain": [
       "        \n",
       "         black blue brown gray green red white yellow\n",
       "  black     46    1     0    0     0   0     0      0\n",
       "  blue       2   16     0   13     0   0     0      0\n",
       "  brown      4    0   113   15     0   6     0      2\n",
       "  gray       3    4     3  212     1   0     5     25\n",
       "  green     10    1    11    2     2   0     1      9\n",
       "  orange     0    0     0    0     0  10     0      2\n",
       "  red        0    0     0    0     0   9     0      3\n",
       "  violet     6    0     0    0     0   2     0      0\n",
       "  white      0    0     0    0     0   0    61      0\n",
       "  yellow     0    0    18   21     0   0    14    189"
      ]
     },
     "metadata": {},
     "output_type": "display_data"
    },
    {
     "data": {
      "text/plain": [
       "     black              blue             brown               gray        \n",
       " Min.   :0.00000   Min.   :0.00000   Min.   :0.000000   Min.   :0.00000  \n",
       " 1st Qu.:0.00000   1st Qu.:0.00000   1st Qu.:0.005714   1st Qu.:0.01942  \n",
       " Median :0.00000   Median :0.00000   Median :0.042453   Median :0.09259  \n",
       " Mean   :0.05412   Mean   :0.03225   Mean   :0.164007   Mean   :0.30451  \n",
       " 3rd Qu.:0.00000   3rd Qu.:0.02315   3rd Qu.:0.084210   3rd Qu.:0.70857  \n",
       " Max.   :0.63426   Max.   :0.74390   Max.   :0.829670   Max.   :0.96429  \n",
       "     green              orange              red              violet       \n",
       " Min.   :0.000000   Min.   :0.000000   Min.   :0.00000   Min.   :0.00000  \n",
       " 1st Qu.:0.004274   1st Qu.:0.000000   1st Qu.:0.00000   1st Qu.:0.00000  \n",
       " Median :0.013889   Median :0.000000   Median :0.00000   Median :0.00000  \n",
       " Mean   :0.044246   Mean   :0.016745   Mean   :0.02921   Mean   :0.01648  \n",
       " 3rd Qu.:0.101942   3rd Qu.:0.009709   3rd Qu.:0.01235   3rd Qu.:0.02817  \n",
       " Max.   :1.000000   Max.   :0.225352   Max.   :0.63380   Max.   :0.08796  \n",
       "     white              yellow       \n",
       " Min.   :0.000000   Min.   :0.00000  \n",
       " 1st Qu.:0.000000   1st Qu.:0.01282  \n",
       " Median :0.000000   Median :0.07692  \n",
       " Mean   :0.082198   Mean   :0.25623  \n",
       " 3rd Qu.:0.004717   3rd Qu.:0.67368  \n",
       " Max.   :0.833333   Max.   :0.85437  "
      ]
     },
     "metadata": {},
     "output_type": "display_data"
    }
   ],
   "source": [
    "# 평가 데이터를 이용해서 모델 검증하기\n",
    "result = predict(model, test.dat)\n",
    "# colnames(result)[apply(result, 1, which.max)]\n",
    "# table(test.dat$LABEL == colnames(result)[apply(result, 1, which.max)])\n",
    "\n",
    "# Confusion Matrix\n",
    "table(test.dat$LABEL, colnames(result)[apply(result, 1, which.max)])"
   ]
  },
  {
   "cell_type": "code",
   "execution_count": 55,
   "metadata": {},
   "outputs": [
    {
     "data": {
      "text/html": [
       "TRUE"
      ],
      "text/latex": [
       "TRUE"
      ],
      "text/markdown": [
       "TRUE"
      ],
      "text/plain": [
       "[1] TRUE"
      ]
     },
     "metadata": {},
     "output_type": "display_data"
    }
   ],
   "source": [
    "save(model, file = \"model.Rdata\")\n",
    "system(\"tar -cvzf model.tar.gz model.Rdata\")\n",
    "\n",
    "# 학습 한 모델을 S3에 업로드\n",
    "# 향후에 새로운 데이터를 입력하여 예측을 할 때 사용\n",
    "put_object(file = \"model.tar.gz\", bucket = file.path(bucket.name, \"model\"))"
   ]
  }
 ],
 "metadata": {
  "kernelspec": {
   "display_name": "R",
   "language": "R",
   "name": "ir"
  },
  "language_info": {
   "codemirror_mode": "r",
   "file_extension": ".r",
   "mimetype": "text/x-r-source",
   "name": "R",
   "pygments_lexer": "r",
   "version": "3.4.1"
  }
 },
 "nbformat": 4,
 "nbformat_minor": 2
}
