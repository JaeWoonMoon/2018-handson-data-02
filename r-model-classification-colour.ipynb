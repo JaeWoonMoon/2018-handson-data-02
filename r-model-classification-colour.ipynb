{
 "cells": [
  {
   "cell_type": "code",
   "execution_count": null,
   "metadata": {},
   "outputs": [],
   "source": [
    "library(aws.signature)\n",
    "library(aws.s3)\n",
    "library(tree)\n",
    "library(colorspace)\n",
    "\n",
    "use_credentials(profile = \"handson2\", file = \"./credentials\")\n",
    "# Sys.getenv()"
   ]
  },
  {
   "cell_type": "code",
   "execution_count": null,
   "metadata": {},
   "outputs": [],
   "source": [
    "rgb = read.csv('rgb.csv')\n",
    "head(rgb)"
   ]
  },
  {
   "cell_type": "code",
   "execution_count": null,
   "metadata": {},
   "outputs": [],
   "source": [
    "# 컬림 설명\n",
    "# NAME: 이름\n",
    "# COL: 헥사로 표현된 RGB 정보\n",
    "# R: Red [0-255]\n",
    "# G: Green [0-255]\n",
    "# B: Blue [0-255]\n",
    "# LABEL: 분류 된 색상 정보\n",
    "# SOURCE: 해당 데이터의 출처 정보\n",
    "# - REFERENCE: https://en.wikipedia.org/wiki/List_of_RAL_colors\n",
    "# - PRODUCT: 상품이미지에서 추출한 대표 색상정보\n",
    "str(rgb)"
   ]
  },
  {
   "cell_type": "code",
   "execution_count": null,
   "metadata": {},
   "outputs": [],
   "source": [
    "plot(table(rgb$LABEL))"
   ]
  },
  {
   "cell_type": "code",
   "execution_count": null,
   "metadata": {},
   "outputs": [],
   "source": [
    "dat = rgb[, c(\"R\", \"G\", \"B\", \"LABEL\")]\n",
    "col.type = \"rgb\"\n",
    "\n",
    "col.type = \"lab\"\n",
    "# lab = as(RGB(dat[, \"R\"]/255, dat[, \"G\"]/255, dat[, \"B\"]/255), \"LAB\")\n",
    "# dat = as.data.frame(coords(lab))\n",
    "# dat$LABEL = rgb$LABEL\n",
    "\n",
    "set.seed(0908)\n",
    "index = sample(round(nrow(dat) * 0.7))\n",
    "\n",
    "# 훈련 데이터와 평가 데이터를 분리\n",
    "train.dat = dat[index, ]\n",
    "test.dat = dat[-index, ]\n",
    "\n",
    "write.csv(train.dat, file = \"train.csv\")\n",
    "write.csv(test.dat, file = \"test.csv\")"
   ]
  },
  {
   "cell_type": "code",
   "execution_count": null,
   "metadata": {},
   "outputs": [],
   "source": [
    "bucket.name = \"sagemaker-handson-2-<userid>\" # <userid> 대신 자신의 아이디를 넣어주세요\n",
    "result = try(bucket_exists(bucket.name),\n",
    "                  silent = T)\n",
    "if(class(result) == \"try-error\") {\n",
    "  put_bucket(bucket.name)  \n",
    "}\n",
    "\n",
    "# 원본 데이터, 학습 데이터, 평가 데이터를 S3에 업로드\n",
    "put_object(file = \"rgb.csv\", bucket = bucket.name)\n",
    "put_object(file = \"train.csv\", bucket = file.path(bucket.name, \"data\", col.type, \"train\"))\n",
    "put_object(file = \"test.csv\", bucket = file.path(bucket.name, \"data\", col.type, \"test\"))"
   ]
  },
  {
   "cell_type": "code",
   "execution_count": null,
   "metadata": {},
   "outputs": [],
   "source": [
    "# tree 모델을 학습 데이터로 학습\n",
    "model = tree(LABEL ~ ., data = train.dat)\n",
    "summary(model)"
   ]
  },
  {
   "cell_type": "code",
   "execution_count": null,
   "metadata": {},
   "outputs": [],
   "source": [
    "# 시각화\n",
    "plot(model); text(model)"
   ]
  },
  {
   "cell_type": "code",
   "execution_count": null,
   "metadata": {},
   "outputs": [],
   "source": [
    "# 평가 데이터를 이용해서 모델 검증하기\n",
    "result = predict(model, test.dat)\n",
    "# colnames(result)[apply(result, 1, which.max)]\n",
    "# table(test.dat$LABEL == colnames(result)[apply(result, 1, which.max)])\n",
    "\n",
    "# Confusion Matrix\n",
    "table(test.dat$LABEL, colnames(result)[apply(result, 1, which.max)])"
   ]
  },
  {
   "cell_type": "code",
   "execution_count": null,
   "metadata": {},
   "outputs": [],
   "source": [
    "save(model, file = \"model.Rdata\")\n",
    "system(\"tar -cvzf model.tar.gz model.Rdata\")\n",
    "\n",
    "# 학습 한 모델을 S3에 업로드\n",
    "# 향후에 새로운 데이터를 입력하여 예측을 할 때 사용\n",
    "put_object(file = \"model.tar.gz\", bucket = file.path(bucket.name, \"model\"))"
   ]
  }
 ],
 "metadata": {
  "kernelspec": {
   "display_name": "R",
   "language": "R",
   "name": "ir"
  },
  "language_info": {
   "codemirror_mode": "r",
   "file_extension": ".r",
   "mimetype": "text/x-r-source",
   "name": "R",
   "pygments_lexer": "r",
   "version": "3.4.1"
  }
 },
 "nbformat": 4,
 "nbformat_minor": 2
}
