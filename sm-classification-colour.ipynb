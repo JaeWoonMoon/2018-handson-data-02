{
 "cells": [
  {
   "cell_type": "markdown",
   "metadata": {
    "isConfigCell": true
   },
   "source": [
    "### Amazon Sagemaker SDK 사용하기\n",
    "필요한 파이선 라이브러리를 가져옵니다."
   ]
  },
  {
   "cell_type": "code",
   "execution_count": null,
   "metadata": {},
   "outputs": [],
   "source": [
    "bucket = 'sagemaker-handson-2-<userid>' # <userid> 대신 자신의 아이디를 넣어주세요\n",
    "prefix = 'classification-colour-'\n",
    "\n",
    "# Define IAM role\n",
    "import boto3\n",
    "import re\n",
    "from sagemaker import get_execution_role\n",
    "\n",
    "role = get_execution_role()"
   ]
  },
  {
   "cell_type": "code",
   "execution_count": 21,
   "metadata": {},
   "outputs": [],
   "source": [
    "import time\n",
    "import json\n",
    "import os"
   ]
  },
  {
   "cell_type": "markdown",
   "metadata": {},
   "source": [
    "### 도커 이미지 빌드 및 배포\n",
    "R에서 생성한 모델을 실행환경과 함께 도커 이미지로 만들고, ECR을 통해서 배포합니다.\n",
    "도커 이미지를 처음 만드는 것이라면 5-10분정도 소요될 수 있습니다."
   ]
  },
  {
   "cell_type": "code",
   "execution_count": 22,
   "metadata": {},
   "outputs": [
    {
     "name": "stdout",
     "output_type": "stream",
     "text": [
      "Login Succeeded\n",
      "Sending build context to Docker daemon  501.8kB\r",
      "\r\n",
      "Step 1/18 : FROM ubuntu:16.04\n",
      " ---> b9e15a5d1e1a\n",
      "Step 2/18 : MAINTAINER Amazon SageMaker Examples <amazon-sagemaker-examples@amazon.com>\n",
      " ---> Using cache\n",
      " ---> bb523a1d76c4\n",
      "Step 3/18 : RUN apt-get -y update && apt-get install -y --no-install-recommends     wget     r-base     r-base-dev     ca-certificates     python2.7     python2.7-dev     python-pip     python-dev     python-virtualenv     git     vim     curl\n",
      " ---> Using cache\n",
      " ---> 7a2f8c051469\n",
      "Step 4/18 : RUN apt-get install -y --no-install-recommends libssl-dev         libssh2-1-dev         libcurl4-openssl-dev         libcairo2-dev         libxt-dev         libfftw3-dev         libtiff5-dev         libxml2-dev\n",
      " ---> Using cache\n",
      " ---> bb86b1e5a30d\n",
      "Step 5/18 : RUN pip install boto3\n",
      " ---> Using cache\n",
      " ---> 86660c2ef0ea\n",
      "Step 6/18 : RUN pip install Pillow numpy scipy\n",
      " ---> Using cache\n",
      " ---> 7ed72ca8de16\n",
      "Step 7/18 : RUN pip install --upgrade virtualenv\n",
      " ---> Using cache\n",
      " ---> 75b45e905eba\n",
      "Step 8/18 : RUN pip install opencv-python\n",
      " ---> Using cache\n",
      " ---> 09504574e1e6\n",
      "Step 9/18 : RUN pip install argparse\n",
      " ---> Using cache\n",
      " ---> 34dc28720829\n",
      "Step 10/18 : RUN pip install setuptools\n",
      " ---> Using cache\n",
      " ---> 2829b053f730\n",
      "Step 11/18 : RUN pip install openapi-codec\n",
      " ---> Using cache\n",
      " ---> acadaf330844\n",
      "Step 12/18 : RUN R -e \"install.packages(c('devtools', 'plumber', 'jsonlite', 'base64enc', 'uuid', 'readbitmap'), repos='https://cloud.r-project.org')\"\n",
      " ---> Using cache\n",
      " ---> 913bee682b8f\n",
      "Step 13/18 : RUN R -e \"install.packages(c('Cairo', 'rPython', 'imager', 'aws.signature', 'aws.s3', 'googleAuthR', 'sp'), repos='https://cloud.r-project.org')\"\n",
      " ---> Using cache\n",
      " ---> 21b999b0e798\n",
      "Step 14/18 : RUN R -e \"install.packages(c('tree', 'colorspace'), repos='https://cloud.r-project.org')\"\n",
      " ---> Using cache\n",
      " ---> dd7632f5c45a\n",
      "Step 15/18 : COPY credentials /opt/ml/credentials\n",
      " ---> Using cache\n",
      " ---> e6557bbbaa7f\n",
      "Step 16/18 : COPY serve.R /opt/ml/serve.R\n",
      " ---> Using cache\n",
      " ---> 85c2afd85c80\n",
      "Step 17/18 : COPY plumber.R /opt/ml/plumber.R\n",
      " ---> Using cache\n",
      " ---> 555e2e605239\n",
      "Step 18/18 : ENTRYPOINT [\"/usr/bin/Rscript\", \"/opt/ml/serve.R\", \"--no-save\"]\n",
      " ---> Using cache\n",
      " ---> 379af785c623\n",
      "Successfully built 379af785c623\n",
      "Successfully tagged handson2:latest\n",
      "The push refers to repository [156679781278.dkr.ecr.ap-northeast-2.amazonaws.com/handson2]\n",
      "a6078493a0eb: Preparing\n",
      "3dddc0c4e01e: Preparing\n",
      "9a56a882e613: Preparing\n",
      "b07a7a44b3d8: Preparing\n",
      "4d05e34e8542: Preparing\n",
      "4b02d8c6a67c: Preparing\n",
      "5b64e1de0925: Preparing\n",
      "6e1becd3ce2a: Preparing\n",
      "ed074d53844b: Preparing\n",
      "c427d499c1e3: Preparing\n",
      "32cb209d500b: Preparing\n",
      "eb5f643f5138: Preparing\n",
      "74a69494dfea: Preparing\n",
      "57c601520c32: Preparing\n",
      "d22ca02f207e: Preparing\n",
      "75b79e19929c: Preparing\n",
      "4775b2f378bb: Preparing\n",
      "883eafdbe580: Preparing\n",
      "19d043c86cbc: Preparing\n",
      "8823818c4748: Preparing\n",
      "eb5f643f5138: Waiting\n",
      "74a69494dfea: Waiting\n",
      "57c601520c32: Waiting\n",
      "d22ca02f207e: Waiting\n",
      "75b79e19929c: Waiting\n",
      "4775b2f378bb: Waiting\n",
      "883eafdbe580: Waiting\n",
      "19d043c86cbc: Waiting\n",
      "8823818c4748: Waiting\n",
      "4b02d8c6a67c: Waiting\n",
      "5b64e1de0925: Waiting\n",
      "6e1becd3ce2a: Waiting\n",
      "ed074d53844b: Waiting\n",
      "c427d499c1e3: Waiting\n",
      "32cb209d500b: Waiting\n",
      "b07a7a44b3d8: Layer already exists\n",
      "9a56a882e613: Layer already exists\n",
      "5b64e1de0925: Layer already exists\n",
      "4b02d8c6a67c: Layer already exists\n",
      "4d05e34e8542: Layer already exists\n",
      "3dddc0c4e01e: Layer already exists\n",
      "a6078493a0eb: Layer already exists\n",
      "6e1becd3ce2a: Layer already exists\n",
      "ed074d53844b: Layer already exists\n",
      "eb5f643f5138: Layer already exists\n",
      "32cb209d500b: Layer already exists\n",
      "c427d499c1e3: Layer already exists\n",
      "57c601520c32: Layer already exists\n",
      "74a69494dfea: Layer already exists\n",
      "d22ca02f207e: Layer already exists\n",
      "75b79e19929c: Layer already exists\n",
      "4775b2f378bb: Layer already exists\n",
      "883eafdbe580: Layer already exists\n",
      "19d043c86cbc: Layer already exists\n",
      "8823818c4748: Layer already exists\n",
      "latest: digest: sha256:be9f6ecc46ca76c06a8fa7dc4eb59a19755d91ff60c6fce2f5b5b29577a9b577 size: 4513\n"
     ]
    },
    {
     "name": "stderr",
     "output_type": "stream",
     "text": [
      "WARNING! Using --password via the CLI is insecure. Use --password-stdin.\n"
     ]
    }
   ],
   "source": [
    "%%sh\n",
    "\n",
    "# The name of our algorithm\n",
    "algorithm_name=handson2\n",
    "\n",
    "# set -e # stop if anything fails\n",
    "\n",
    "account=$(aws sts get-caller-identity --query Account --output text)\n",
    "\n",
    "# Get the region defined in the current configuration (default to us-west-2 if none defined)\n",
    "region=$(aws configure get region)\n",
    "\n",
    "fullname=\"${account}.dkr.ecr.${region}.amazonaws.com/${algorithm_name}:latest\"\n",
    "\n",
    "# If the repository doesn't exist in ECR, create it.\n",
    "\n",
    "aws ecr describe-repositories --repository-names \"${algorithm_name}\" > /dev/null 2>&1\n",
    "\n",
    "if [ $? -ne 0 ]\n",
    "then\n",
    "    aws ecr create-repository --repository-name \"${algorithm_name}\" > /dev/null\n",
    "fi\n",
    "\n",
    "# Get the login command from ECR and execute it directly\n",
    "$(aws ecr get-login --region ${region} --no-include-email)\n",
    "\n",
    "# Build the docker image locally with the image name and then push it to ECR\n",
    "# with the full name.\n",
    "docker build  -t ${algorithm_name} .\n",
    "docker tag ${algorithm_name} ${fullname}\n",
    "\n",
    "docker push ${fullname}"
   ]
  },
  {
   "cell_type": "markdown",
   "metadata": {},
   "source": [
    "---\n",
    "## 호스팅\n",
    "모델을 배포하기 위해서 생성한 도커이미지와 훈련한 모델파일의 경로를 지정해줍니다."
   ]
  },
  {
   "cell_type": "code",
   "execution_count": 23,
   "metadata": {},
   "outputs": [
    {
     "name": "stdout",
     "output_type": "stream",
     "text": [
      "arn:aws:sagemaker:ap-northeast-2:156679781278:model/classification-colour-2018-09-07-14-09-34\n"
     ]
    }
   ],
   "source": [
    "region = boto3.Session().region_name\n",
    "account = boto3.client('sts').get_caller_identity().get('Account')\n",
    "sm = boto3.client('sagemaker')\n",
    "\n",
    "r_hosting_container = {\n",
    "    'Image': '{}.dkr.ecr.{}.amazonaws.com/handson2:latest'.format(account, region),\n",
    "    'ModelDataUrl': 's3://{}/model/model.tar.gz'.format(bucket)\n",
    "}\n",
    "\n",
    "r_job = prefix + time.strftime(\"%Y-%m-%d-%H-%M-%S\", time.gmtime())\n",
    "create_model_response = sm.create_model(\n",
    "    ModelName=r_job,\n",
    "    ExecutionRoleArn=role,\n",
    "    PrimaryContainer=r_hosting_container)\n",
    "\n",
    "print(create_model_response['ModelArn'])"
   ]
  },
  {
   "cell_type": "markdown",
   "metadata": {},
   "source": [
    "엔드포인트 설정을 합니다."
   ]
  },
  {
   "cell_type": "code",
   "execution_count": 24,
   "metadata": {},
   "outputs": [
    {
     "name": "stdout",
     "output_type": "stream",
     "text": [
      "classification-colour-config-2018-09-07-14-09-54\n",
      "Endpoint Config Arn: arn:aws:sagemaker:ap-northeast-2:156679781278:endpoint-config/classification-colour-config-2018-09-07-14-09-54\n"
     ]
    }
   ],
   "source": [
    "r_endpoint_config = prefix + 'config-' + time.strftime(\"%Y-%m-%d-%H-%M-%S\", time.gmtime())\n",
    "print(r_endpoint_config)\n",
    "\n",
    "create_endpoint_config_response = sm.create_endpoint_config(\n",
    "    EndpointConfigName=r_endpoint_config,\n",
    "    ProductionVariants=[{\n",
    "        'InstanceType': 'ml.t2.medium',\n",
    "        'InitialInstanceCount': 1,\n",
    "        'ModelName': r_job,\n",
    "        'VariantName': 'AllTraffic'}])\n",
    "\n",
    "print(\"Endpoint Config Arn: \" + create_endpoint_config_response['EndpointConfigArn'])"
   ]
  },
  {
   "cell_type": "markdown",
   "metadata": {},
   "source": [
    "엔드포인트 설정대로 엔드포인트를 만듭니다. 해당 작업은 5-10분 정도 소요됩니다."
   ]
  },
  {
   "cell_type": "code",
   "execution_count": 25,
   "metadata": {},
   "outputs": [
    {
     "name": "stdout",
     "output_type": "stream",
     "text": [
      "classification-colour-endpoint-201809071409\n",
      "arn:aws:sagemaker:ap-northeast-2:156679781278:endpoint/classification-colour-endpoint-201809071409\n",
      "Status: Creating\n",
      "Arn: arn:aws:sagemaker:ap-northeast-2:156679781278:endpoint/classification-colour-endpoint-201809071409\n",
      "Status: InService\n",
      "CPU times: user 144 ms, sys: 8 ms, total: 152 ms\n",
      "Wall time: 5min 31s\n"
     ]
    }
   ],
   "source": [
    "%%time\n",
    "\n",
    "r_endpoint = prefix +'endpoint-' + time.strftime(\"%Y%m%d%H%M\", time.gmtime())\n",
    "print(r_endpoint)\n",
    "\n",
    "create_endpoint_response = sm.create_endpoint(\n",
    "    EndpointName=r_endpoint,\n",
    "    EndpointConfigName=r_endpoint_config)\n",
    "print(create_endpoint_response['EndpointArn'])\n",
    "\n",
    "resp = sm.describe_endpoint(EndpointName=r_endpoint)\n",
    "status = resp['EndpointStatus']\n",
    "print(\"Status: \" + status)\n",
    "\n",
    "try:\n",
    "    sm.get_waiter('endpoint_in_service').wait(EndpointName=r_endpoint)\n",
    "finally:\n",
    "    resp = sm.describe_endpoint(EndpointName=r_endpoint)\n",
    "    status = resp['EndpointStatus']\n",
    "    print(\"Arn: \" + resp['EndpointArn'])\n",
    "    print(\"Status: \" + status)\n",
    "\n",
    "    if status != 'InService':\n",
    "        raise Exception('Endpoint creation did not succeed')"
   ]
  },
  {
   "cell_type": "markdown",
   "metadata": {},
   "source": [
    "---\n",
    "## 예측하기\n",
    "엔드포인트가 정상적으로 배포되고 동작하는지 확인합니다."
   ]
  },
  {
   "cell_type": "code",
   "execution_count": 26,
   "metadata": {},
   "outputs": [
    {
     "data": {
      "text/plain": [
       "['blue']"
      ]
     },
     "execution_count": 26,
     "metadata": {},
     "output_type": "execute_result"
    }
   ],
   "source": [
    "runtime = boto3.Session().client('runtime.sagemaker')\n",
    "\n",
    "col = {\"r\": 73, \"g\": 84, \"b\": 116}\n",
    "payload = json.dumps(col)\n",
    "response = runtime.invoke_endpoint(EndpointName=r_endpoint,\n",
    "                                   ContentType='application/json',\n",
    "                                   Body=payload)\n",
    "\n",
    "result = json.loads(response['Body'].read().decode())\n",
    "result "
   ]
  }
 ],
 "metadata": {
  "kernelspec": {
   "display_name": "conda_python3",
   "language": "python",
   "name": "conda_python3"
  },
  "language_info": {
   "codemirror_mode": {
    "name": "ipython",
    "version": 3
   },
   "file_extension": ".py",
   "mimetype": "text/x-python",
   "name": "python",
   "nbconvert_exporter": "python",
   "pygments_lexer": "ipython3",
   "version": "3.6.5"
  },
  "notice": "Copyright 2017 Amazon.com, Inc. or its affiliates. All Rights Reserved.  Licensed under the Apache License, Version 2.0 (the \"License\"). You may not use this file except in compliance with the License. A copy of the License is located at http://aws.amazon.com/apache2.0/ or in the \"license\" file accompanying this file. This file is distributed on an \"AS IS\" BASIS, WITHOUT WARRANTIES OR CONDITIONS OF ANY KIND, either express or implied. See the License for the specific language governing permissions and limitations under the License."
 },
 "nbformat": 4,
 "nbformat_minor": 2
}
